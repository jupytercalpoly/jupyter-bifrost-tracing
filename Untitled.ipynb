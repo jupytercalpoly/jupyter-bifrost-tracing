{
 "cells": [
  {
   "cell_type": "code",
   "execution_count": 7,
   "id": "305ea139-977f-4002-aaa4-5970309f1ae9",
   "metadata": {},
   "outputs": [
    {
     "name": "stdout",
     "output_type": "stream",
     "text": [
      "Error in callback <bound method BifrostWatcher.post_run_cell of <bifrost_tracing.bifrost_tracing.BifrostWatcher object at 0x10fcf79a0>> (for post_run_cell):\n"
     ]
    },
    {
     "ename": "SyntaxError",
     "evalue": "invalid syntax (<unknown>, line 1)",
     "output_type": "error",
     "traceback": [
      "\u001b[0;36m  File \u001b[0;32m\"<unknown>\"\u001b[0;36m, line \u001b[0;32m1\u001b[0m\n\u001b[0;31m    %%capture\u001b[0m\n\u001b[0m    ^\u001b[0m\n\u001b[0;31mSyntaxError\u001b[0m\u001b[0;31m:\u001b[0m invalid syntax\n"
     ]
    }
   ],
   "source": [
    "%%capture\n",
    "print('hello world')"
   ]
  },
  {
   "cell_type": "code",
   "execution_count": 1,
   "id": "729263f2-c27e-466f-9580-25961934e182",
   "metadata": {},
   "outputs": [],
   "source": [
    "import bifrost_tracing"
   ]
  },
  {
   "cell_type": "code",
   "execution_count": 2,
   "id": "ec45fa41-349f-41df-b0ba-7ef376726a09",
   "metadata": {},
   "outputs": [
    {
     "data": {
      "text/plain": [
       "4"
      ]
     },
     "execution_count": 2,
     "metadata": {},
     "output_type": "execute_result"
    }
   ],
   "source": [
    "2 + 2"
   ]
  },
  {
   "cell_type": "code",
   "execution_count": 7,
   "id": "20f98eaa-0698-4f6e-abc4-e7706f31e29c",
   "metadata": {},
   "outputs": [],
   "source": [
    "import ast"
   ]
  },
  {
   "cell_type": "code",
   "execution_count": 4,
   "id": "59b6461c-ac91-4ef6-8377-977f389c91c0",
   "metadata": {},
   "outputs": [
    {
     "name": "stdout",
     "output_type": "stream",
     "text": [
      "Error in callback <bound method BifrostWatcher.post_run_cell of <bifrost_tracing.bifrost_tracing.BifrostWatcher object at 0x11215ff40>> (for post_run_cell):\n"
     ]
    },
    {
     "ename": "SyntaxError",
     "evalue": "invalid syntax (<unknown>, line 1)",
     "output_type": "error",
     "traceback": [
      "\u001b[0;36m  File \u001b[0;32m\"<unknown>\"\u001b[0;36m, line \u001b[0;32m1\u001b[0m\n\u001b[0;31m    %%capture\u001b[0m\n\u001b[0m    ^\u001b[0m\n\u001b[0;31mSyntaxError\u001b[0m\u001b[0;31m:\u001b[0m invalid syntax\n"
     ]
    },
    {
     "name": "stdout",
     "output_type": "stream",
     "text": [
      "Error in callback <bound method BifrostWatcher.post_run_cell of <bifrost_tracing.bifrost_tracing.BifrostWatcher object at 0x11215ff40>> (for post_run_cell):\n"
     ]
    },
    {
     "ename": "TypeError",
     "evalue": "'NoneType' object is not iterable",
     "output_type": "error",
     "traceback": [
      "\u001b[0;31m---------------------------------------------------------------------------\u001b[0m",
      "\u001b[0;31mTypeError\u001b[0m                                 Traceback (most recent call last)",
      "\u001b[0;32m~/projects/jupyter_widget/Bifrost_tracing/bifrost_tracing/bifrost_tracing/bifrost_tracing.py\u001b[0m in \u001b[0;36mpost_run_cell\u001b[0;34m(self, result)\u001b[0m\n\u001b[1;32m     43\u001b[0m \u001b[0;34m\u001b[0m\u001b[0m\n\u001b[1;32m     44\u001b[0m             \u001b[0;32melse\u001b[0m\u001b[0;34m:\u001b[0m\u001b[0;34m\u001b[0m\u001b[0;34m\u001b[0m\u001b[0m\n\u001b[0;32m---> 45\u001b[0;31m                 \u001b[0mself\u001b[0m\u001b[0;34m.\u001b[0m\u001b[0mbifrost_table\u001b[0m\u001b[0;34m[\u001b[0m\u001b[0mnew_df\u001b[0m\u001b[0;34m]\u001b[0m \u001b[0;34m=\u001b[0m \u001b[0;34m{\u001b[0m\u001b[0mcol\u001b[0m\u001b[0;34m:\u001b[0m \u001b[0;36m0\u001b[0m \u001b[0;32mfor\u001b[0m \u001b[0mcol\u001b[0m \u001b[0;32min\u001b[0m \u001b[0mcolumns\u001b[0m\u001b[0;34m}\u001b[0m\u001b[0;34m\u001b[0m\u001b[0;34m\u001b[0m\u001b[0m\n\u001b[0m\u001b[1;32m     46\u001b[0m \u001b[0;34m\u001b[0m\u001b[0m\n\u001b[1;32m     47\u001b[0m \u001b[0;34m\u001b[0m\u001b[0m\n",
      "\u001b[0;31mTypeError\u001b[0m: 'NoneType' object is not iterable"
     ]
    }
   ],
   "source": [
    "import pandas as pd\n",
    "df = pd.DataFrame([[1,2, 3], [3,4, 5]], columns=[\"foo\", \"boo\", \"bar\"])\n",
    "df = pd.DataFrame([[1,2],[3,4]], columns=['foo', 'bar'])"
   ]
  },
  {
   "cell_type": "code",
   "execution_count": 6,
   "id": "eaf4a1dd-cb88-460c-94ac-e7037993461e",
   "metadata": {},
   "outputs": [
    {
     "data": {
      "text/plain": [
       "Index(['foo', 'bar'], dtype='object')"
      ]
     },
     "execution_count": 6,
     "metadata": {},
     "output_type": "execute_result"
    },
    {
     "name": "stdout",
     "output_type": "stream",
     "text": [
      "Cell code: \"df.columns\"\n",
      "[]\n",
      "{'df': {'foo': 0, 'bar': 0}, 'df2': {}}\n"
     ]
    }
   ],
   "source": [
    "df.columns"
   ]
  },
  {
   "cell_type": "code",
   "execution_count": 162,
   "id": "ec98422c-c3d2-4eb4-bee1-d71469ac38c4",
   "metadata": {},
   "outputs": [
    {
     "name": "stdout",
     "output_type": "stream",
     "text": [
      "Cell code: \"dir(t.body[0].value)\"\n",
      "<ast.Module object at 0x10b262970>\n"
     ]
    },
    {
     "data": {
      "text/plain": [
       "['__class__',\n",
       " '__delattr__',\n",
       " '__dict__',\n",
       " '__dir__',\n",
       " '__doc__',\n",
       " '__eq__',\n",
       " '__format__',\n",
       " '__ge__',\n",
       " '__getattribute__',\n",
       " '__gt__',\n",
       " '__hash__',\n",
       " '__init__',\n",
       " '__init_subclass__',\n",
       " '__le__',\n",
       " '__lt__',\n",
       " '__module__',\n",
       " '__ne__',\n",
       " '__new__',\n",
       " '__reduce__',\n",
       " '__reduce_ex__',\n",
       " '__repr__',\n",
       " '__setattr__',\n",
       " '__sizeof__',\n",
       " '__str__',\n",
       " '__subclasshook__',\n",
       " '__weakref__',\n",
       " '_attributes',\n",
       " '_fields',\n",
       " 'args',\n",
       " 'col_offset',\n",
       " 'end_col_offset',\n",
       " 'end_lineno',\n",
       " 'func',\n",
       " 'keywords',\n",
       " 'lineno']"
      ]
     },
     "execution_count": 162,
     "metadata": {},
     "output_type": "execute_result"
    }
   ],
   "source": [
    "dir(t.body[0].value)"
   ]
  },
  {
   "cell_type": "code",
   "execution_count": 177,
   "id": "a17feffe-eb43-4596-941f-a11353130c52",
   "metadata": {},
   "outputs": [
    {
     "name": "stdout",
     "output_type": "stream",
     "text": [
      "Cell code: \"class v(ast.NodeVisitor):\n",
      "    def generic_visit(self, node):\n",
      "        print(type(node).__name__)\n",
      "        ast.NodeVisitor.generic_visit(self, node)\"\n",
      "<ast.Module object at 0x10b262a30>\n"
     ]
    }
   ],
   "source": [
    "class v(ast.NodeVisitor):\n",
    "    def generic_visit(self, node):\n",
    "        print(type(node).__name__)\n",
    "        ast.NodeVisitor.generic_visit(self, node)"
   ]
  },
  {
   "cell_type": "code",
   "execution_count": 220,
   "id": "7060dd2e-30f3-44ca-89c0-3a540f34f4b7",
   "metadata": {},
   "outputs": [
    {
     "name": "stdout",
     "output_type": "stream",
     "text": [
      "Cell code: \"class AttributeVisitor(ast.NodeVisitor):\n",
      "    attributes = []\n",
      "    \n",
      "    def visit_Attribute(self, node):\n",
      "        self.attributes.append(node.value.id + \".\" + node.attr)\"\n",
      "<ast.Module object at 0x11016da00>\n"
     ]
    }
   ],
   "source": [
    "class AttributeVisitor(ast.NodeVisitor):\n",
    "    attributes = []\n",
    "    \n",
    "    def visit_Attribute(self, node):\n",
    "        self.attributes.append(node.value.id + \".\" + node.attr)"
   ]
  },
  {
   "cell_type": "code",
   "execution_count": 221,
   "id": "75673c32-0fc5-4663-9948-c2861c4cf4e3",
   "metadata": {},
   "outputs": [
    {
     "name": "stdout",
     "output_type": "stream",
     "text": [
      "Cell code: \"class NameVisitor(ast.NodeVisitor):\n",
      "    names = []\n",
      "    \n",
      "    def visit_Name(self, node):\n",
      "        self.names.append(node.id)\"\n",
      "<ast.Module object at 0x11016da00>\n"
     ]
    }
   ],
   "source": [
    "class NameVisitor(ast.NodeVisitor):\n",
    "    names = []\n",
    "    \n",
    "    def visit_Name(self, node):\n",
    "        self.names.append(node.id)"
   ]
  },
  {
   "cell_type": "code",
   "execution_count": 224,
   "id": "5a5ff2ef-6028-434b-80e9-5f58106093ec",
   "metadata": {},
   "outputs": [
    {
     "name": "stdout",
     "output_type": "stream",
     "text": [
      "Cell code: \"class AssignVisitor(ast.NodeVisitor):\n",
      "    def visit_Module(self, node):\n",
      "        self.generic_visit(node)\n",
      "        \n",
      "    def visit_Assign(self, node):\n",
      "        nameVisitor = NameVisitor()\n",
      "        print(node.targets)\n",
      "        for target in node.targets:\n",
      "            nameVisitor.visit(target)\n",
      "        names = nameVisitor.names\n",
      "        print(f\"{names=}\")\n",
      "        attributeVisitor = AttributeVisitor()\n",
      "        attributeVisitor.visit(node.value) \n",
      "        attributes = attributeVisitor.attributes\n",
      "        print(attributes)\n",
      "        print(zip(names, attributes))\n",
      "        \n",
      "\"\n",
      "<ast.Module object at 0x11016ca90>\n"
     ]
    }
   ],
   "source": [
    "class AssignVisitor(ast.NodeVisitor):\n",
    "    def visit_Module(self, node):\n",
    "        self.generic_visit(node)\n",
    "        \n",
    "    def visit_Assign(self, node):\n",
    "        nameVisitor = NameVisitor()\n",
    "        print(node.targets)\n",
    "        for target in node.targets:\n",
    "            nameVisitor.visit(target)\n",
    "        names = nameVisitor.names\n",
    "        print(f\"{names=}\")\n",
    "        attributeVisitor = AttributeVisitor()\n",
    "        attributeVisitor.visit(node.value) \n",
    "        attributes = attributeVisitor.attributes\n",
    "        print(attributes)\n",
    "        print(zip(names, attributes))\n",
    "        \n"
   ]
  },
  {
   "cell_type": "code",
   "execution_count": 225,
   "id": "a3b42ebd-58ca-4fba-b640-544394b71c25",
   "metadata": {},
   "outputs": [
    {
     "name": "stdout",
     "output_type": "stream",
     "text": [
      "Cell code: \"AssignVisitor().visit(t)\"\n",
      "<ast.Module object at 0x11016d520>\n",
      "[<ast.Name object at 0x10b33a400>]\n",
      "names=['df', 'df2', 'df']\n",
      "['pd.DataFrame', 'pd.DataFrame', 'pd.DataFrame']\n",
      "<zip object at 0x11074fe80>\n",
      "[<ast.Name object at 0x10b33a3d0>]\n",
      "names=['df', 'df2', 'df', 'df2']\n",
      "['pd.DataFrame', 'pd.DataFrame', 'pd.DataFrame', 'pd.DataFrame']\n",
      "<zip object at 0x11074ff80>\n"
     ]
    }
   ],
   "source": [
    "AssignVisitor().visit(t)"
   ]
  },
  {
   "cell_type": "code",
   "execution_count": null,
   "id": "788fdb26-db51-4082-bf88-02264d3ffa33",
   "metadata": {},
   "outputs": [],
   "source": []
  },
  {
   "cell_type": "code",
   "execution_count": null,
   "id": "49938998-ade2-4d0f-89af-2bee7f7037bb",
   "metadata": {},
   "outputs": [],
   "source": []
  }
 ],
 "metadata": {
  "kernelspec": {
   "display_name": "Python 3",
   "language": "python",
   "name": "python3"
  },
  "language_info": {
   "codemirror_mode": {
    "name": "ipython",
    "version": 3
   },
   "file_extension": ".py",
   "mimetype": "text/x-python",
   "name": "python",
   "nbconvert_exporter": "python",
   "pygments_lexer": "ipython3",
   "version": "3.9.5"
  }
 },
 "nbformat": 4,
 "nbformat_minor": 5
}
