{
 "cells": [
  {
   "cell_type": "code",
   "execution_count": 1,
   "id": "305ea139-977f-4002-aaa4-5970309f1ae9",
   "metadata": {},
   "outputs": [],
   "source": [
    "%%capture\n",
    "print('hello world')"
   ]
  },
  {
   "cell_type": "code",
   "execution_count": 2,
   "id": "729263f2-c27e-466f-9580-25961934e182",
   "metadata": {},
   "outputs": [],
   "source": [
    "import bifrost_tracing"
   ]
  },
  {
   "cell_type": "code",
   "execution_count": 3,
   "id": "ec45fa41-349f-41df-b0ba-7ef376726a09",
   "metadata": {},
   "outputs": [
    {
     "data": {
      "text/plain": [
       "4"
      ]
     },
     "execution_count": 3,
     "metadata": {},
     "output_type": "execute_result"
    }
   ],
   "source": [
    "2 + 2"
   ]
  },
  {
   "cell_type": "code",
   "execution_count": 4,
   "id": "20f98eaa-0698-4f6e-abc4-e7706f31e29c",
   "metadata": {},
   "outputs": [],
   "source": [
    "import ast"
   ]
  },
  {
   "cell_type": "code",
   "execution_count": 5,
   "id": "59b6461c-ac91-4ef6-8377-977f389c91c0",
   "metadata": {},
   "outputs": [
    {
     "data": {
      "text/plain": [
       "Index(['foo', 'bar'], dtype='object')"
      ]
     },
     "execution_count": 6,
     "metadata": {},
     "output_type": "execute_result"
    },
    {
     "name": "stdout",
     "output_type": "stream",
     "text": [
      "Index(['foo', 'bar'], dtype='object')\n"
     ]
    },
    {
     "data": {
      "text/plain": [
       "Index(['foo', 'bar'], dtype='object')"
      ]
     },
     "execution_count": 6,
     "metadata": {},
     "output_type": "execute_result"
    },
    {
     "name": "stdout",
     "output_type": "stream",
     "text": [
      "Index(['foo', 'bar'], dtype='object')\n"
     ]
    }
   ],
   "source": [
    "import pandas as pd\n",
    "df = pd.DataFrame([[1,2, 3], [3,4, 5]], columns=[\"foo\", \"boo\", \"bar\"])\n",
    "df = pd.DataFrame([[1,2],[3,4]], columns=['foo', 'bar'])"
   ]
  },
  {
   "cell_type": "code",
   "execution_count": 6,
   "id": "eaf4a1dd-cb88-460c-94ac-e7037993461e",
   "metadata": {},
   "outputs": [
    {
     "data": {
      "text/plain": [
       "Index(['foo', 'bar'], dtype='object')"
      ]
     },
     "execution_count": 6,
     "metadata": {},
     "output_type": "execute_result"
    }
   ],
   "source": [
    "df.columns"
   ]
  },
  {
   "cell_type": "code",
   "execution_count": 7,
   "id": "ec98422c-c3d2-4eb4-bee1-d71469ac38c4",
   "metadata": {},
   "outputs": [
    {
     "ename": "NameError",
     "evalue": "name 't' is not defined",
     "output_type": "error",
     "traceback": [
      "\u001b[0;31m---------------------------------------------------------------------------\u001b[0m",
      "\u001b[0;31mNameError\u001b[0m                                 Traceback (most recent call last)",
      "\u001b[0;32m<ipython-input-7-484afa4acf49>\u001b[0m in \u001b[0;36m<module>\u001b[0;34m\u001b[0m\n\u001b[0;32m----> 1\u001b[0;31m \u001b[0mdir\u001b[0m\u001b[0;34m(\u001b[0m\u001b[0mt\u001b[0m\u001b[0;34m.\u001b[0m\u001b[0mbody\u001b[0m\u001b[0;34m[\u001b[0m\u001b[0;36m0\u001b[0m\u001b[0;34m]\u001b[0m\u001b[0;34m.\u001b[0m\u001b[0mvalue\u001b[0m\u001b[0;34m)\u001b[0m\u001b[0;34m\u001b[0m\u001b[0;34m\u001b[0m\u001b[0m\n\u001b[0m",
      "\u001b[0;31mNameError\u001b[0m: name 't' is not defined"
     ]
    }
   ],
   "source": [
    "dir(t.body[0].value)"
   ]
  },
  {
   "cell_type": "code",
   "execution_count": null,
   "id": "a17feffe-eb43-4596-941f-a11353130c52",
   "metadata": {},
   "outputs": [],
   "source": [
    "class v(ast.NodeVisitor):\n",
    "    def generic_visit(self, node):\n",
    "        print(type(node).__name__)\n",
    "        ast.NodeVisitor.generic_visit(self, node)"
   ]
  },
  {
   "cell_type": "code",
   "execution_count": null,
   "id": "7060dd2e-30f3-44ca-89c0-3a540f34f4b7",
   "metadata": {},
   "outputs": [],
   "source": [
    "class AttributeVisitor(ast.NodeVisitor):\n",
    "    attributes = []\n",
    "    \n",
    "    def visit_Attribute(self, node):\n",
    "        self.attributes.append(node.value.id + \".\" + node.attr)"
   ]
  },
  {
   "cell_type": "code",
   "execution_count": null,
   "id": "75673c32-0fc5-4663-9948-c2861c4cf4e3",
   "metadata": {},
   "outputs": [],
   "source": [
    "class NameVisitor(ast.NodeVisitor):\n",
    "    names = []\n",
    "    \n",
    "    def visit_Name(self, node):\n",
    "        self.names.append(node.id)"
   ]
  },
  {
   "cell_type": "code",
   "execution_count": null,
   "id": "5a5ff2ef-6028-434b-80e9-5f58106093ec",
   "metadata": {},
   "outputs": [],
   "source": [
    "class AssignVisitor(ast.NodeVisitor):\n",
    "    def visit_Module(self, node):\n",
    "        self.generic_visit(node)\n",
    "        \n",
    "    def visit_Assign(self, node):\n",
    "        nameVisitor = NameVisitor()\n",
    "        print(node.targets)\n",
    "        for target in node.targets:\n",
    "            nameVisitor.visit(target)\n",
    "        names = nameVisitor.names\n",
    "        print(f\"{names=}\")\n",
    "        attributeVisitor = AttributeVisitor()\n",
    "        attributeVisitor.visit(node.value) \n",
    "        attributes = attributeVisitor.attributes\n",
    "        print(attributes)\n",
    "        print(zip(names, attributes))\n",
    "        \n"
   ]
  },
  {
   "cell_type": "code",
   "execution_count": null,
   "id": "a3b42ebd-58ca-4fba-b640-544394b71c25",
   "metadata": {},
   "outputs": [],
   "source": [
    "AssignVisitor().visit(t)"
   ]
  },
  {
   "cell_type": "code",
   "execution_count": null,
   "id": "788fdb26-db51-4082-bf88-02264d3ffa33",
   "metadata": {},
   "outputs": [],
   "source": []
  },
  {
   "cell_type": "code",
   "execution_count": null,
   "id": "49938998-ade2-4d0f-89af-2bee7f7037bb",
   "metadata": {},
   "outputs": [],
   "source": []
  }
 ],
 "metadata": {
  "kernelspec": {
   "display_name": "Python 3",
   "language": "python",
   "name": "python3"
  },
  "language_info": {
   "codemirror_mode": {
    "name": "ipython",
    "version": 3
   },
   "file_extension": ".py",
   "mimetype": "text/x-python",
   "name": "python",
   "nbconvert_exporter": "python",
   "pygments_lexer": "ipython3",
   "version": "3.9.5"
  }
 },
 "nbformat": 4,
 "nbformat_minor": 5
}
